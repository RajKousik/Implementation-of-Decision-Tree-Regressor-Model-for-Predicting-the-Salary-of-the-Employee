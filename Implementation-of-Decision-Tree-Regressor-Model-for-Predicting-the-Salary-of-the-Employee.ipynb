{
  "nbformat": 4,
  "nbformat_minor": 0,
  "metadata": {
    "colab": {
      "provenance": []
    },
    "kernelspec": {
      "name": "python3",
      "display_name": "Python 3"
    },
    "language_info": {
      "name": "python"
    }
  },
  "cells": [
    {
      "cell_type": "code",
      "execution_count": 1,
      "metadata": {
        "colab": {
          "base_uri": "https://localhost:8080/"
        },
        "id": "DNxUpc0Fo05j",
        "outputId": "22042acf-0936-496f-c51c-b5147f279c23"
      },
      "outputs": [
        {
          "output_type": "stream",
          "name": "stdout",
          "text": [
            "<class 'pandas.core.frame.DataFrame'>\n",
            "RangeIndex: 10 entries, 0 to 9\n",
            "Data columns (total 3 columns):\n",
            " #   Column    Non-Null Count  Dtype \n",
            "---  ------    --------------  ----- \n",
            " 0   Position  10 non-null     object\n",
            " 1   Level     10 non-null     int64 \n",
            " 2   Salary    10 non-null     int64 \n",
            "dtypes: int64(2), object(1)\n",
            "memory usage: 368.0+ bytes\n"
          ]
        },
        {
          "output_type": "stream",
          "name": "stderr",
          "text": [
            "/usr/local/lib/python3.10/dist-packages/sklearn/base.py:439: UserWarning: X does not have valid feature names, but DecisionTreeRegressor was fitted with feature names\n",
            "  warnings.warn(\n"
          ]
        },
        {
          "output_type": "execute_result",
          "data": {
            "text/plain": [
              "array([150000.])"
            ]
          },
          "metadata": {},
          "execution_count": 1
        }
      ],
      "source": [
        "import pandas as pd\n",
        "data=pd.read_csv(\"Salary.csv\")\n",
        "data.head()\n",
        "data.info()\n",
        "\n",
        "data.isnull().sum()\n",
        "\n",
        "from sklearn.preprocessing import LabelEncoder\n",
        "le = LabelEncoder()\n",
        "data[\"Position\"]=le.fit_transform(data[\"Position\"])\n",
        "data.head()\n",
        "\n",
        "x= data[[\"Position\",\"Level\"]]\n",
        "y=data[\"Salary\"]\n",
        "\n",
        "from sklearn.model_selection import train_test_split\n",
        "x_train,x_test,y_train,y_test = train_test_split(x,y,test_size = 0.2,random_state = 2)\n",
        "\n",
        "from sklearn.tree import DecisionTreeRegressor\n",
        "dt = DecisionTreeRegressor()\n",
        "dt.fit(x_train,y_train)\n",
        "y_pred = dt.predict(x_test)\n",
        "\n",
        "from sklearn import metrics\n",
        "mse = metrics.mean_squared_error(y_test,y_pred)\n",
        "mse\n",
        "\n",
        "r2= metrics.r2_score(y_test,y_pred)\n",
        "r2\n",
        "\n",
        "dt.predict([[5,6]])\n"
      ]
    }
  ]
}